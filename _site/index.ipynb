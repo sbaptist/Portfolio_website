{
  "cells": [
    {
      "cell_type": "markdown",
      "metadata": {},
      "source": [
        "# Sang B. Mendy\n",
        "\n",
        "Hello and welcome to my website! I’m Sang B. Mendy, a passionate data\n",
        "enthusiast with a deep interest in statistics, data analysis, and\n",
        "machine learning. I hold a Bachelor’s degree in Mathematics, and I’m\n",
        "currently pursuing a Master’s degree in Data Science and Statistics at\n",
        "the University of The Gambia. My journey into the world of data has been\n",
        "driven by a fascination with numbers, patterns, and the power of\n",
        "data-driven decision-making.\n",
        "\n",
        "With a strong foundation in mathematical theory and its practical\n",
        "applications, I specialize in leveraging statistical techniques and\n",
        "machine learning algorithms to solve real-world problems. My academic\n",
        "background, combined with my expertise in software tools like R, MS\n",
        "Excel, and Python, has allowed me to work on a range of projects—from\n",
        "exploratory data analysis to predictive modeling.\n",
        "\n",
        "Beyond my technical skills, I value critical thinking, collaboration,\n",
        "and effective communication. I believe that the best results come from\n",
        "working together and sharing knowledge, which is why I started this\n",
        "website. Here, I share insights on data science, machine learning, and\n",
        "statistics, along with practical guides on using tools like R and\n",
        "Python."
      ],
      "id": "42680b71-57c3-405a-8156-bb41b9a9c6d2"
    }
  ],
  "nbformat": 4,
  "nbformat_minor": 5,
  "metadata": {
    "kernelspec": {
      "display_name": "Python 3",
      "language": "python",
      "name": "python3"
    }
  }
}