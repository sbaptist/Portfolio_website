{
  "cells": [
    {
      "cell_type": "markdown",
      "metadata": {},
      "source": [
        "#"
      ],
      "id": "711cc03a-6e3a-47c5-a67c-ec42647f9999"
    },
    {
      "cell_type": "raw",
      "metadata": {
        "raw_mimetype": "text/html"
      },
      "source": [
        "<iframe width=\"800\" height=\"800\" src=\"images/SANG_B_MENDY_CV.pdf\">"
      ],
      "id": "c8a09140-d394-4440-a78e-cfbb884254fb"
    },
    {
      "cell_type": "raw",
      "metadata": {
        "raw_mimetype": "text/html"
      },
      "source": [
        "</iframe>"
      ],
      "id": "1ddcef1e-ce40-4339-a336-78eb6d8fe791"
    }
  ],
  "nbformat": 4,
  "nbformat_minor": 5,
  "metadata": {
    "kernelspec": {
      "display_name": "Python 3",
      "language": "python",
      "name": "python3"
    }
  }
}