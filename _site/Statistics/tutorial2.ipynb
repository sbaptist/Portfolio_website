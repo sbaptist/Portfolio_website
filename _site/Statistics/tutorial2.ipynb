{
  "cells": [
    {
      "cell_type": "markdown",
      "metadata": {},
      "source": [
        "# Tutorial 2\n",
        "\n",
        "Sangbaptist  \n",
        "2023-10-01"
      ],
      "id": "5a1249a8-c6c0-4e84-bad1-2f56cca2e626"
    }
  ],
  "nbformat": 4,
  "nbformat_minor": 5,
  "metadata": {
    "kernelspec": {
      "display_name": "Python 3",
      "language": "python",
      "name": "python3"
    }
  }
}