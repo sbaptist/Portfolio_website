{
  "cells": [
    {
      "cell_type": "markdown",
      "metadata": {},
      "source": [
        "# Project 2\n",
        "\n",
        "Sangbaptist  \n",
        "2023-10-01"
      ],
      "id": "363f04ff-f88b-4ce4-a153-4f31b413655d"
    }
  ],
  "nbformat": 4,
  "nbformat_minor": 5,
  "metadata": {
    "kernelspec": {
      "display_name": "Python 3",
      "language": "python",
      "name": "python3"
    }
  }
}