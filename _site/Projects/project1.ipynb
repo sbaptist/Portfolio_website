{
  "cells": [
    {
      "cell_type": "markdown",
      "metadata": {},
      "source": [
        "# Project 1\n",
        "\n",
        "Sangbaptist  \n",
        "2023-10-01"
      ],
      "id": "08820aea-beed-460a-a5b0-316fbe05d0f4"
    }
  ],
  "nbformat": 4,
  "nbformat_minor": 5,
  "metadata": {
    "kernelspec": {
      "display_name": "Python 3",
      "language": "python",
      "name": "python3"
    }
  }
}