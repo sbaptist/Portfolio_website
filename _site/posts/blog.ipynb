{
  "cells": [
    {
      "cell_type": "markdown",
      "metadata": {},
      "source": [
        "# Blog\n",
        "\n",
        "Welcome to my blog. Here are my recent posts:\n",
        "\n",
        "-   [Introducing R](posts/Introducing%20R.qmd)\n",
        "-   [R packages](posts/R%20packages.qmd)\n",
        "-   [R Repository](posts/R%20Repository.qmd)"
      ],
      "id": "c54b8b6e-ec4f-4ec3-ba9b-4d079f892bfb"
    }
  ],
  "nbformat": 4,
  "nbformat_minor": 5,
  "metadata": {
    "kernelspec": {
      "display_name": "Python 3",
      "language": "python",
      "name": "python3"
    }
  }
}