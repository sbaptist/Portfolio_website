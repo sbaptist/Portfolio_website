{
  "cells": [
    {
      "cell_type": "markdown",
      "metadata": {},
      "source": [
        "# R packages\n",
        "\n",
        "Sangbaptist  \n",
        "2023-10-01\n",
        "\n",
        "# What is a package in R language?\n",
        "\n",
        "An R package is a collection of functions, data and compiled code that\n",
        "is bundled together in a standardized way to extend the functionality of\n",
        "R. In R, packages allow users to document, share and reuse codes.\n",
        "\n",
        "I would recommend these books on R packages: [Hadley Wickham & Jennifer\n",
        "Bryian](https://r-pkgs.org/) and [Hadley\n",
        "Wickham](https://www.amazon.com/Packages-Organize-Test-Document-Share/dp/1491910593).\n",
        "\n",
        "## Examples packages in R are:\n",
        "\n",
        "-   **tidyverse**: This is a collection of some R packages designed to\n",
        "    make data analysis easier, efficient and more intuitive.\n",
        "-   **caret**: Short for **Classification and REgression Training**\n",
        "    provides uniform interfaces for creating predictive models in R,\n",
        "    with tools for data *splitting, pre-processing, feature selection,\n",
        "    model tuning* and many more.\n",
        "-   **ggplot2**: It is primarily for data visualization, offering a\n",
        "    flexible and structured approach to creating static and dynamic\n",
        "    plots.[Rnews](https://cran.r-project.org/doc/Rnews/Rnews_2008-2.pdf)\n",
        "-   **shiny**: Shiny is designed for building **interactive web\n",
        "    applications** that allow users to interact with data in real-time,\n",
        "    without the need for advanced web programming knowledge.\n",
        "\n",
        "# Key features of an R package:\n",
        "\n",
        "1.  **Function**: In an R package, a function is a piece of code that\n",
        "    performs a specific task. Functions are the main building blocks of\n",
        "    the package, allowing users to perform calculations,\n",
        "    transformations, visualizations, or analyses. These functions reside\n",
        "    in the **R/ directory** and are what users call directly when they\n",
        "    use the package. For example, if a package provides a function\n",
        "    `plot_data()`, the function would be defined here. Functions are\n",
        "    stored in .R files within the **R/ directory** but their usage and\n",
        "    behavior are also documented in the **man/ directory** (via the\n",
        "    `.Rd` files).\n",
        "\n",
        "2.  **Data**: Many R packages include datasets, especially if they are\n",
        "    intended for teaching, demonstration, or testing. These datasets are\n",
        "    stored in the **data/ directory** and are often provided as `.rda`\n",
        "    or `.csv` files. The data/ directory holds these datasets, while the\n",
        "    man/ directory will include documentation on how to use them. The\n",
        "    vignettes/ directory may also contain tutorials demonstrating how to\n",
        "    work with the datasets.\n",
        "\n",
        "3.  **Documentation**: Documentation in an R package describes the\n",
        "    functions, data, and overall package usage. It includes\n",
        "    user-friendly descriptions, examples, and details about the\n",
        "    parameters, input/output, and purpose of each function or dataset.\n",
        "    This documentation is stored in the **man/ directory** as `.Rd`\n",
        "    files and can be accessed by users using `?function_name` or\n",
        "    `help()` in R. Documentation is created using `.Rd` files in the\n",
        "    **man/ directory**, and long-form tutorials or explanations can also\n",
        "    be found in the **vignettes/ directory**.\n",
        "\n",
        "# Why use R package?\n",
        "\n",
        "While R packages can greatly enhance productivity, simplify complex\n",
        "tasks, and provide access to advanced techniques, they are not always\n",
        "necessary for every task. The decision to use an R package should depend\n",
        "on the task’s complexity, performance needs, and your familiarity with\n",
        "the package. R packages extend the base capabilities of R by providing\n",
        "additional functions, tools, and datasets that are not included in the\n",
        "standard R installation. This allows users to perform more advanced\n",
        "tasks, such as machine learning, data visualization, or web development,\n",
        "without needing to reinvent the wheel.\n",
        "\n",
        "Here are some few importance or advantages of using R packages:\n",
        "\n",
        "1.  **Reusability**: Packages in R provide ready-made solutions that\n",
        "    save you from writing code from scratch.\n",
        "2.  **Community Support**. There are many R communities that you can get\n",
        "    support from including **networking, learning opportunities** and\n",
        "    **collaboration**, at all level. Examples are\n",
        "    [CRAN](https://cran.org), [R Consortium](https://r-consortium.org),\n",
        "    [Github](https://github.com) and many more.\n",
        "3.  **Specialised tools**: Packages often have specific focus area like\n",
        "    **genomics**, **machine learning**, **finance** or\n",
        "    **visualisation**, providing tools tailored for those domains.\n",
        "4.  **Efficiency**: Some R packages are built with highly optimized\n",
        "    algorithms, often implemented in C, C++, or Fortran, which are\n",
        "    faster than pure R code. This makes certain packages more efficient,\n",
        "    especially for large datasets or complex operations.\n",
        "\n",
        "# Sources of R packages\n",
        "\n",
        "When R is installed on your computer, it comes with a set of **base\n",
        "packages**(e.g. **utils**, **graphics**, **datasets**, etc) and\n",
        "**recommended packages** (**MASS**, **survival**, **rpart**, etc) by\n",
        "default. The number of these packages (combined) depends on the R\n",
        "version your are using. These packages are essential for performing\n",
        "basic tasks and provide foundational functions for R. However, there are\n",
        "many other available packages from online.\n",
        "\n",
        "R packages come from several primary sources, each contributing to the\n",
        "growth and accessibility of the R ecosystem.\n",
        "\n",
        "Two of the biggest sources of R packages are CRAN (Comprehensive R\n",
        "Archive Network) and [Bioconductor](https://www.bioconductor.org/)(an\n",
        "open source project for building tools to analyse genomic data)\n",
        "repositories. For more about repositories, check my other\n",
        "[post](https://sbaptist.quarto.pub/sbmendy/posts/R%20respositories.html).\n",
        "\n",
        "# Common package listing in R\n",
        "\n",
        "### How to install a package in R:"
      ],
      "id": "fcf5b621-8622-4270-99a3-9f6c0d2b93b9"
    },
    {
      "cell_type": "code",
      "execution_count": null,
      "metadata": {},
      "outputs": [],
      "source": [
        "install.packages(\"package_name\") #write the name of the package you\n",
        "                                  #are intending to install (e.g. rio)"
      ],
      "id": "aead29c1-ae86-49d0-92c6-f4bedcb7f8f6"
    },
    {
      "cell_type": "markdown",
      "metadata": {},
      "source": [
        "### How to list packages installed with R:"
      ],
      "id": "5f75c2e4-b68d-4ad4-b4f8-245bc54d67a3"
    },
    {
      "cell_type": "code",
      "execution_count": null,
      "metadata": {},
      "outputs": [],
      "source": [
        "installed.packages() #Do not mistake \"installed\" with \"install\""
      ],
      "id": "56b4721a-1435-48b3-92b7-cbd7a3e2e8d1"
    },
    {
      "cell_type": "markdown",
      "metadata": {},
      "source": [
        "### List currently loaded packages"
      ],
      "id": "cccc8d79-01a0-4cb2-823a-788ae062259e"
    },
    {
      "cell_type": "code",
      "execution_count": null,
      "metadata": {},
      "outputs": [],
      "source": [
        ".packages()"
      ],
      "id": "598d2aa7-3f8f-4c55-bdde-4b906c4fa9c8"
    },
    {
      "cell_type": "markdown",
      "metadata": {},
      "source": [
        "### List all installed packages"
      ],
      "id": "fe82699a-9ea3-4748-aeec-bb7e00708a8a"
    },
    {
      "cell_type": "code",
      "execution_count": null,
      "metadata": {},
      "outputs": [],
      "source": [
        ".packages(all.available = TRUE)"
      ],
      "id": "508a773c-6c78-4c00-a9db-e67ed967e76d"
    },
    {
      "cell_type": "markdown",
      "metadata": {},
      "source": [
        "### Listing available packages in R"
      ],
      "id": "34d2eb09-5dcc-4f93-9640-9bdcf780d62c"
    },
    {
      "cell_type": "code",
      "execution_count": null,
      "metadata": {},
      "outputs": [],
      "source": [
        "library()"
      ],
      "id": "568a8331-a8f6-4fb3-83a2-30ab1a1571b4"
    },
    {
      "cell_type": "markdown",
      "metadata": {},
      "source": [
        "### Loading an installed package into R"
      ],
      "id": "613ab666-170e-405d-9d4c-b452894c154b"
    },
    {
      "cell_type": "code",
      "execution_count": null,
      "metadata": {},
      "outputs": [],
      "source": [
        "library(package_name) #Loading a single package\n",
        "library(c(package_1, package_2)) # Loading two or more packages\n",
        "require(package_name) #another way to load a package"
      ],
      "id": "f7f3dabd-4be2-40fd-ae0c-10d2a8ce0f4c"
    },
    {
      "cell_type": "markdown",
      "metadata": {},
      "source": [
        "### Listing packages loaded by default"
      ],
      "id": "6029d881-e1f6-440f-b8ad-8c58f223d721"
    },
    {
      "cell_type": "code",
      "execution_count": null,
      "metadata": {},
      "outputs": [],
      "source": [
        "getOption(\"defaultPackages\")"
      ],
      "id": "3ba4d8c0-aef8-4f98-a2cf-c6e9da19dc8f"
    }
  ],
  "nbformat": 4,
  "nbformat_minor": 5,
  "metadata": {
    "kernelspec": {
      "display_name": "Python 3",
      "language": "python",
      "name": "python3"
    }
  }
}