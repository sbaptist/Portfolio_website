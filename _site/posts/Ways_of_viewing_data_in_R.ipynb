{
  "cells": [
    {
      "cell_type": "markdown",
      "metadata": {},
      "source": [
        "# Ways of viewing data in R\n",
        "\n",
        "Sangbaptist  \n",
        "2023-10-01\n",
        "\n",
        "# Twenty (20) plus ways of viewing data in R\n",
        "\n",
        "When data is loading into R,\n",
        "\n",
        "# View entire dataset\n",
        "\n",
        "# Head and tail of the dataset\n",
        "\n",
        "# View the structure of the dataset\n",
        "\n",
        "# Dimensions (number of rows & columns) of the dataset\n",
        "\n",
        "# View column names\n",
        "\n",
        "# View the data type of each column\n",
        "\n",
        "# View the first 5 row of a particular column\n",
        "\n",
        "# View specific rows or columns\n",
        "\n",
        "# Get a summary of your dataset\n",
        "\n",
        "# Peek at the top and bottom of each column with `skimr` pacakge\n",
        "\n",
        "# Check data type of columns with `sapply` function\n",
        "\n",
        "# Inspect the first few rows of a dataframe with`glimpse` from `dyplyr` package\n",
        "\n",
        "# View uniques values in a data frame with `unique` function\n",
        "\n",
        "# View frequency of each value with `table` function\n",
        "\n",
        "#"
      ],
      "id": "dba180b2-b963-4f15-b8af-9c680eb67bbf"
    }
  ],
  "nbformat": 4,
  "nbformat_minor": 5,
  "metadata": {
    "kernelspec": {
      "display_name": "Python 3",
      "language": "python",
      "name": "python3"
    }
  }
}