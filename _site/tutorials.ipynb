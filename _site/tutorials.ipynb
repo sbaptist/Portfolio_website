{
  "cells": [
    {
      "cell_type": "markdown",
      "metadata": {},
      "source": [
        "# Tutorials\n",
        "\n",
        "Explore my tutorials on data science and programming:\n",
        "\n",
        "-   [Tutorial 1](Tutorials/tutorial1.qmd)\n",
        "-   [Tutorial 2](Tutorials/tutorial2.qmd)"
      ],
      "id": "dcb18ff7-7c99-488d-bf76-04f91d1ba547"
    }
  ],
  "nbformat": 4,
  "nbformat_minor": 5,
  "metadata": {
    "kernelspec": {
      "display_name": "Python 3",
      "language": "python",
      "name": "python3"
    }
  }
}