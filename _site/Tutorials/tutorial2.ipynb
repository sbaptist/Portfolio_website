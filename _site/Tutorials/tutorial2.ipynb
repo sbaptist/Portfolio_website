{
  "cells": [
    {
      "cell_type": "markdown",
      "metadata": {},
      "source": [
        "# Tutorial 2\n",
        "\n",
        "Sangbaptist  \n",
        "2023-10-01"
      ],
      "id": "987c8279-52e9-4a73-8a9e-dd156f6437d4"
    }
  ],
  "nbformat": 4,
  "nbformat_minor": 5,
  "metadata": {
    "kernelspec": {
      "display_name": "Python 3",
      "language": "python",
      "name": "python3"
    }
  }
}