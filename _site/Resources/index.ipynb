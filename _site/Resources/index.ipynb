{
  "cells": [
    {
      "cell_type": "markdown",
      "metadata": {},
      "source": [
        "# Learning Resources\n",
        "\n",
        "Sangbaptist  \n",
        "2023-10-01"
      ],
      "id": "8bf50377-d3a4-4363-90d3-17e1da13bc63"
    }
  ],
  "nbformat": 4,
  "nbformat_minor": 5,
  "metadata": {
    "kernelspec": {
      "display_name": "Python 3",
      "language": "python",
      "name": "python3"
    }
  }
}