{
  "cells": [
    {
      "cell_type": "markdown",
      "metadata": {},
      "source": [
        "# Resources\n",
        "\n",
        "Remember, learning never ends. In here, we have some very resources\n",
        "platforms or materials that we can always consult or learning something\n",
        "new from:"
      ],
      "id": "fcdfdf6a-16e6-4ccf-9adc-fe815936dee2"
    }
  ],
  "nbformat": 4,
  "nbformat_minor": 5,
  "metadata": {
    "kernelspec": {
      "display_name": "Python 3",
      "language": "python",
      "name": "python3"
    }
  }
}