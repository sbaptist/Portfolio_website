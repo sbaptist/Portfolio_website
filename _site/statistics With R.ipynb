{
  "cells": [
    {
      "cell_type": "markdown",
      "metadata": {},
      "source": [
        "# Statistics With R\n",
        "\n",
        "Explore my tutorials on data science and programming:\n",
        "\n",
        "-   [Statistical\n",
        "    Distributions](Statistics/Statistical_Distributions.qmd)\n",
        "-   [Tutorial 2](Statistics/tutorial2.qmd)"
      ],
      "id": "12dc82bc-80ee-4e30-9ecd-9ea403ac05fe"
    }
  ],
  "nbformat": 4,
  "nbformat_minor": 5,
  "metadata": {
    "kernelspec": {
      "display_name": "Python 3",
      "language": "python",
      "name": "python3"
    }
  }
}