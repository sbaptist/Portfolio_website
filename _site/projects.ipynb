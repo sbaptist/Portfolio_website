{
  "cells": [
    {
      "cell_type": "markdown",
      "metadata": {},
      "source": [
        "# Projects\n",
        "\n",
        "Here are some of the projects I’ve worked on:\n",
        "\n",
        "-   [Project 1](Projects/project1.qmd)\n",
        "-   [Project 2](Projects/project2.qmd)"
      ],
      "id": "e58033c2-11e1-4f91-b76f-acbeb3c993cf"
    }
  ],
  "nbformat": 4,
  "nbformat_minor": 5,
  "metadata": {
    "kernelspec": {
      "display_name": "Python 3",
      "language": "python",
      "name": "python3"
    }
  }
}