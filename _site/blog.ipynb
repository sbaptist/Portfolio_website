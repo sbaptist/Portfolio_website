{
  "cells": [
    {
      "cell_type": "markdown",
      "metadata": {},
      "source": [
        "# Blog\n",
        "\n",
        "Welcome to my blog. Here are my recent posts:\n",
        "\n",
        "-   [Introducing R](posts/Introducing%20R.qmd)\n",
        "-   [R packages](posts/R%20packages.qmd)\n",
        "-   [R Repository](posts/R%20Repository.qmd)\n",
        "-   [Ways_of_viewing_data_in_R](posts/Ways_of_viewing_data_in_R.qmd)"
      ],
      "id": "af16f266-f4ab-444d-b57d-db2499d7b8a3"
    }
  ],
  "nbformat": 4,
  "nbformat_minor": 5,
  "metadata": {
    "kernelspec": {
      "display_name": "Python 3",
      "language": "python",
      "name": "python3"
    }
  }
}